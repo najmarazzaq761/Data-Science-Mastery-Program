{
 "cells": [
  {
   "cell_type": "markdown",
   "metadata": {},
   "source": [
    "## Question 1: Basic Class Creation"
   ]
  },
  {
   "cell_type": "code",
   "execution_count": 28,
   "metadata": {},
   "outputs": [
    {
     "name": "stdout",
     "output_type": "stream",
     "text": [
      "The Think and Grow Rich is written by Nepoleon Hill and has 1400 pages\n",
      "The Rich Dad Poor Dad is written by Robert Kioski and has 400 pages\n"
     ]
    }
   ],
   "source": [
    "\n",
    "class Book:\n",
    "       # constructer to initilize attibutes\n",
    "    def __init__(self, title,author,pages):     \n",
    "        self.title=title\n",
    "        self.author=author\n",
    "        self.pages=pages\n",
    "       # method to print  book info\n",
    "    def get_info(self):                       \n",
    "        print(f\"The {self.title} is written by {self.author} and has {self.pages} pages\")\n",
    "        # object creation\n",
    "book1=Book(\"Think and Grow Rich\",\"Nepoleon Hill\",1400)\n",
    "book2=Book(\"Rich Dad Poor Dad\",\"Robert Kioski\",400)\n",
    "book1.get_info()\n",
    "book2.get_info()"
   ]
  },
  {
   "cell_type": "markdown",
   "metadata": {},
   "source": [
    "## Question:2 Class inheritance"
   ]
  },
  {
   "cell_type": "code",
   "execution_count": 35,
   "metadata": {},
   "outputs": [
    {
     "name": "stdout",
     "output_type": "stream",
     "text": [
      "Person name is: Najma, Person age is: 21\n",
      "Student ID is: 171\n"
     ]
    }
   ],
   "source": [
    "class person:\n",
    "    def __init__(self, name, age):           # constructer to initialize attibutes\n",
    "        self.name = name\n",
    "        self.age = age\n",
    "        \n",
    "    def display_details(self):               # method to display data of person\n",
    "        print(f\"Person name is: {self.name}, Person age is: {self.age}\")\n",
    "      \n",
    "class student(person):\n",
    "    def __init__(self, name, age, sid): \n",
    "        super().__init__(name, age)           # initialize name and age from person class\n",
    "        self.sid = sid                        # initialize student id\n",
    "\n",
    "    def display_details(self):\n",
    "        super().display_details()             # Call the parent class display_details to show name and age                                \n",
    "        print(f\"Student ID is: {self.sid}\")\n",
    "\n",
    "obj = student(\"Najma\", 21, 171)               # Create a student object and display details\n",
    "obj.display_details()"
   ]
  },
  {
   "cell_type": "markdown",
   "metadata": {},
   "source": [
    "## Question:3 Writing and reading files"
   ]
  },
  {
   "cell_type": "code",
   "execution_count": 6,
   "metadata": {},
   "outputs": [
    {
     "name": "stdout",
     "output_type": "stream",
     "text": [
      "Name: najma, Score:4\n",
      "Name: uzma, Score:6\n",
      "Name: asad, Score:7\n",
      "Name: saif, Score:8\n",
      "Name: mujahid, Score:9\n"
     ]
    }
   ],
   "source": [
    "students=[(\"najma\",4),(\"uzma\",6),(\"asad\",7),(\"saif\",8),(\"mujahid\",9)]   \n",
    "# opening file  in write mode\n",
    "\n",
    "with open ( \"student_data.txt\",\"w\" ) as file:\n",
    "           for name,score in students:\n",
    "              file.write(f\"Name: {name}, Score:{score}\\n\")\n",
    "#opening file in read mode\n",
    "with open(\"student_data.txt\",\"r\")as file:\n",
    "       for line in file:\n",
    "              print(line.strip())     "
   ]
  },
  {
   "cell_type": "markdown",
   "metadata": {},
   "source": [
    "## Question:4 Managing student data with oop and file handling"
   ]
  },
  {
   "cell_type": "code",
   "execution_count": null,
   "metadata": {},
   "outputs": [],
   "source": [
    "class StudentRecord:\n",
    "    def __init__(self):\n",
    "        # Initialize an empty list to store student data\n",
    "        self.records = []\n",
    "    \n",
    "    def add_student(self, name, score):\n",
    "        # Add the student's name and score to the list\n",
    "        self.records.append((name, score))\n",
    "        \n",
    "        # Write the student's record to the file\n",
    "        with open(\"records.txt\", \"a\") as file:  # Use \"a\" to append data\n",
    "            file.write(f\"Name: {name}, Score: {score}\\n\")\n",
    "    \n",
    "    def display_records(self):\n",
    "        # Read and print all records from the file\n",
    "        with open(\"records.txt\", \"r\") as file:\n",
    "            for line in file:\n",
    "                print(line.strip())  # Print each line without extra newline\n",
    "\n",
    "# Create an instance of StudentRecord and add three students\n",
    "record = StudentRecord()\n",
    "record.add_student(\"Najma\", 5)\n",
    "record.add_student(\"Uzma\", 10)\n",
    "record.add_student(\"Asad\", 15)\n",
    "\n",
    "# Display all records\n",
    "record.display_records()\n"
   ]
  },
  {
   "cell_type": "markdown",
   "metadata": {},
   "source": [
    "## Question 5: Exception handling in file oprations "
   ]
  },
  {
   "cell_type": "code",
   "execution_count": 10,
   "metadata": {},
   "outputs": [
    {
     "name": "stdout",
     "output_type": "stream",
     "text": [
      "file created sucessfully\n"
     ]
    }
   ],
   "source": [
    "try:\n",
    "    # trying to open file\n",
    "    file=open(\"non_existent_file.txt\",\"r\")\n",
    "\n",
    "except FileNotFoundError:\n",
    "    # handling error\n",
    "    print(\"file not found\")\n",
    "    # opening file in write mode\n",
    "    file=open(\"non_existent_file.txt\",\"w\")\n",
    "    file.write(\"I am learning exception handling\")\n",
    "print(\"file created sucessfully\")\n"
   ]
  },
  {
   "cell_type": "code",
   "execution_count": null,
   "metadata": {},
   "outputs": [],
   "source": []
  },
  {
   "cell_type": "code",
   "execution_count": null,
   "metadata": {},
   "outputs": [],
   "source": []
  }
 ],
 "metadata": {
  "kernelspec": {
   "display_name": "Python 3",
   "language": "python",
   "name": "python3"
  },
  "language_info": {
   "codemirror_mode": {
    "name": "ipython",
    "version": 3
   },
   "file_extension": ".py",
   "mimetype": "text/x-python",
   "name": "python",
   "nbconvert_exporter": "python",
   "pygments_lexer": "ipython3",
   "version": "3.12.5"
  }
 },
 "nbformat": 4,
 "nbformat_minor": 2
}
