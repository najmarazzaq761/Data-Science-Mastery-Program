{
 "cells": [
  {
   "cell_type": "markdown",
   "metadata": {},
   "source": [
    "# Sales Data Analysis "
   ]
  },
  {
   "cell_type": "markdown",
   "metadata": {},
   "source": [
    "### Importing libraries"
   ]
  },
  {
   "cell_type": "code",
   "execution_count": 114,
   "metadata": {},
   "outputs": [],
   "source": [
    "import pandas as pd\n",
    "import seaborn as sns\n",
    "import matplotlib.pyplot as plt\n",
    "import numpy as np\n",
    "import sqlite3\n",
    "import csv"
   ]
  },
  {
   "cell_type": "markdown",
   "metadata": {},
   "source": [
    "### Creating an sqlite database file"
   ]
  },
  {
   "cell_type": "code",
   "execution_count": 155,
   "metadata": {},
   "outputs": [],
   "source": [
    "conn=sqlite3.connect(\"ecommerce.db\")\n",
    "cursor=conn.cursor()"
   ]
  },
  {
   "cell_type": "markdown",
   "metadata": {},
   "source": [
    "## Assignment Tasks"
   ]
  },
  {
   "cell_type": "markdown",
   "metadata": {},
   "source": [
    "## 1. Creating tables"
   ]
  },
  {
   "cell_type": "code",
   "execution_count": 116,
   "metadata": {},
   "outputs": [],
   "source": [
    "cursor.execute(\"\"\"\n",
    "Create table if not exists\n",
    "Orders(\n",
    "                TransactionID integer,\n",
    "                OrderDate text, \n",
    "                CustomerID integer,\n",
    "                ProductID integer,\n",
    "                Quantity integer, \n",
    "                TotalAmount real     \n",
    ")\"\"\")\n",
    "cursor.execute(\"\"\"\n",
    "Create table if not exists\n",
    "Products(\n",
    "                ProductID integer, \n",
    "                ProductName text, \n",
    "                Category text, \n",
    "                Price real   \n",
    ")\"\"\")\n",
    "cursor.execute(\"\"\"\n",
    "Create table if not exists\n",
    "Customers(\n",
    "               CustomerID integer, \n",
    "               Name text, \n",
    "               Region text, \n",
    "               Segment text    \n",
    ")\"\"\")\n",
    "cursor.execute(\"\"\"\n",
    "Create table if not exists\n",
    "Sales(\n",
    "               OrderID integer,\n",
    "               Revenue real, \n",
    "               Discounts real, \n",
    "               Taxes real\n",
    ")\"\"\")\n",
    "conn.commit()"
   ]
  },
  {
   "cell_type": "markdown",
   "metadata": {},
   "source": [
    "## 2. Loading data"
   ]
  },
  {
   "cell_type": "code",
   "execution_count": 117,
   "metadata": {},
   "outputs": [],
   "source": [
    "Orders=pd.read_csv(\"Orders_Large.csv\")\n",
    "Products=pd.read_csv(\"Products_Large.csv\")\n",
    "Customers=pd.read_csv(\"Customers_Large.csv\")\n",
    "Sales=pd.read_csv(\"Sales_Large.csv\")"
   ]
  },
  {
   "cell_type": "markdown",
   "metadata": {},
   "source": [
    "## 3. Converting csv to sql tables"
   ]
  },
  {
   "cell_type": "code",
   "execution_count": 118,
   "metadata": {},
   "outputs": [
    {
     "name": "stdout",
     "output_type": "stream",
     "text": [
      "Data sucessfuly loaded into sqlite database\n"
     ]
    }
   ],
   "source": [
    "Orders.to_sql(\"Orders\",conn, if_exists=\"replace\",index=False)\n",
    "Products.to_sql(\"Products\",conn, if_exists=\"replace\",index=False)\n",
    "Customers.to_sql(\"Customers\",conn, if_exists=\"replace\",index=False)\n",
    "Sales.to_sql(\"Sales\",conn, if_exists=\"replace\",index=False)\n",
    "print(\"Data sucessfuly loaded into sqlite database\")"
   ]
  },
  {
   "cell_type": "markdown",
   "metadata": {},
   "source": [
    "### Varify data "
   ]
  },
  {
   "cell_type": "code",
   "execution_count": 119,
   "metadata": {},
   "outputs": [
    {
     "name": "stdout",
     "output_type": "stream",
     "text": [
      "   TransactionID   OrderDate  CustomerID  ProductID  Quantity  TotalAmount\n",
      "0           1000  2023-02-11           6        212         4          426\n",
      "1           1001  2024-06-09          22        226         8          184\n",
      "2           1002  2022-12-11          31        231         5          880\n",
      "3           1003  2022-12-18          23        227        10          928\n",
      "4           1004  2024-04-11          42        215         7          517\n"
     ]
    }
   ],
   "source": [
    "Orders=pd.read_sql(\"select * from Orders\",conn)\n",
    "print(Orders.head())"
   ]
  },
  {
   "cell_type": "code",
   "execution_count": 120,
   "metadata": {},
   "outputs": [
    {
     "name": "stdout",
     "output_type": "stream",
     "text": [
      "   ProductID     ProductName         Category  Price\n",
      "0        200          Report            Books     89\n",
      "1        201           Shake      Electronics    226\n",
      "2        202           Skill            Books    494\n",
      "3        203            Into  Home Appliances    160\n",
      "4        204  Responsibility            Books    479\n"
     ]
    }
   ],
   "source": [
    "Products=pd.read_sql(\"select * from Products\",conn)\n",
    "print(Products.head())"
   ]
  },
  {
   "cell_type": "code",
   "execution_count": 121,
   "metadata": {},
   "outputs": [
    {
     "name": "stdout",
     "output_type": "stream",
     "text": [
      "   CustomerID               Name   Region    Segment\n",
      "0           1  Christina Harrell     East  Corporate\n",
      "1           2      David Charles     East  Corporate\n",
      "2           3      Cheryl Harris     East  Corporate\n",
      "3           4       Cameron King  Central  Corporate\n",
      "4           5          Tanya Kim     West  Corporate\n"
     ]
    }
   ],
   "source": [
    "Customers=pd.read_sql(\"select * from Customers\",conn)\n",
    "print(Customers.head())"
   ]
  },
  {
   "cell_type": "code",
   "execution_count": 122,
   "metadata": {},
   "outputs": [
    {
     "name": "stdout",
     "output_type": "stream",
     "text": [
      "   OrderID  Revenue  Discounts  Taxes\n",
      "0     1000     1755         30     65\n",
      "1     1001     1727         76    101\n",
      "2     1002     1834         25     23\n",
      "3     1003      896         94    123\n",
      "4     1004     1868         51     63\n"
     ]
    }
   ],
   "source": [
    "Sales=pd.read_sql(\"select * from Sales\",conn)\n",
    "print(Sales.head())"
   ]
  },
  {
   "cell_type": "markdown",
   "metadata": {},
   "source": [
    "###  Joining all tabels to create a single table"
   ]
  },
  {
   "cell_type": "code",
   "execution_count": 123,
   "metadata": {},
   "outputs": [],
   "source": [
    "# Create customorder table\n",
    "cursor.execute(\"\"\"\n",
    "CREATE TABLE IF NOT EXISTS customorder AS\n",
    "SELECT \n",
    "    c.CustomerID,\n",
    "    c.Name,\n",
    "    c.Region,\n",
    "    c.Segment,\n",
    "    o.TransactionID,\n",
    "    o.OrderDate,\n",
    "    o.ProductID,\n",
    "    o.Quantity,\n",
    "    o.TotalAmount\n",
    "FROM Customers c \n",
    "JOIN Orders o ON c.CustomerID = o.CustomerID;\n",
    "\"\"\")\n",
    "\n",
    "# Create procustomorder table\n",
    "cursor.execute(\"\"\"\n",
    "CREATE TABLE IF NOT EXISTS procustomorder AS\n",
    "SELECT \n",
    "    p.ProductID,\n",
    "    p.ProductName,\n",
    "    p.Category,\n",
    "    p.Price,\n",
    "    co.CustomerID,\n",
    "    co.Name,\n",
    "    co.Region,\n",
    "    co.Segment,\n",
    "    co.TransactionID,\n",
    "    co.OrderDate,\n",
    "    co.Quantity,\n",
    "    co.TotalAmount\n",
    "FROM Products p \n",
    "JOIN customorder co ON co.ProductID = p.ProductID;\n",
    "\"\"\")\n",
    "\n",
    "# Create sales_data table\n",
    "cursor.execute(\"\"\"\n",
    "CREATE TABLE IF NOT EXISTS sales_data AS\n",
    "SELECT \n",
    "    s.OrderID,\n",
    "    s.Revenue,\n",
    "    s.Discounts,\n",
    "    s.Taxes,\n",
    "    co.ProductID,\n",
    "    co.ProductName,\n",
    "    co.Category,\n",
    "    co.Price,\n",
    "    co.CustomerID,\n",
    "    co.Name,\n",
    "    co.Region,\n",
    "    co.Segment,\n",
    "    co.OrderDate,\n",
    "    co.Quantity,\n",
    "    co.TotalAmount\n",
    "FROM Sales s\n",
    "JOIN procustomorder co ON co.TransactionID = s.OrderID;\n",
    "\"\"\")\n",
    "\n",
    "# Commit the transaction and close the connection\n",
    "conn.commit()"
   ]
  },
  {
   "cell_type": "markdown",
   "metadata": {},
   "source": [
    "### 6. Varify table is created or not"
   ]
  },
  {
   "cell_type": "code",
   "execution_count": 124,
   "metadata": {},
   "outputs": [
    {
     "name": "stdout",
     "output_type": "stream",
     "text": [
      "   OrderID  Revenue  Discounts  Taxes  ProductID ProductName         Category  \\\n",
      "0     1000     1755         30     65        212        Mind      Accessories   \n",
      "1     1001     1727         76    101        226      Suffer      Accessories   \n",
      "2     1002     1834         25     23        231        Role  Home Appliances   \n",
      "3     1003      896         94    123        227       North  Home Appliances   \n",
      "4     1004     1868         51     63        215        Both      Accessories   \n",
      "\n",
      "   Price  CustomerID          Name   Region    Segment   OrderDate  Quantity  \\\n",
      "0     67           6  Lauren Walls     West  Wholesale  2023-02-11         4   \n",
      "1    179          22     Lori Cole  Central  Wholesale  2024-06-09         8   \n",
      "2     82          31   Sherri Knox    South  Wholesale  2022-12-11         5   \n",
      "3    221          23    Randy Duke    North     Retail  2022-12-18        10   \n",
      "4    334          42   Zachary Ray  Central  Corporate  2024-04-11         7   \n",
      "\n",
      "   TotalAmount  \n",
      "0          426  \n",
      "1          184  \n",
      "2          880  \n",
      "3          928  \n",
      "4          517  \n"
     ]
    }
   ],
   "source": [
    "# Reconnect to the SQLite database\n",
    "conn = sqlite3.connect(\"ecommerce.db\")\n",
    "sales_data = pd.read_sql(\"SELECT * FROM sales_data\", conn)\n",
    "print(sales_data.head())"
   ]
  },
  {
   "cell_type": "markdown",
   "metadata": {},
   "source": [
    "# 4. Performing SQL Queries"
   ]
  },
  {
   "cell_type": "markdown",
   "metadata": {},
   "source": [
    "### 1. Total sales revenue by month"
   ]
  },
  {
   "cell_type": "code",
   "execution_count": 125,
   "metadata": {},
   "outputs": [],
   "source": [
    "query=\"\"\"select\n",
    "strftime(\"%Y-%m\",Orderdate) as month, \n",
    "sum(Revenue) as TotalRevenue\n",
    "from sales_data\n",
    "group by month\n",
    "order by month asc;\n",
    "\"\"\"\n",
    "cursor.execute(query)\n",
    "sales_revenue_by_month = cursor.fetchall()\n",
    "# Open a CSV file for writing\n",
    "with open('revenue_by_month.csv', 'w', newline='') as csvfile:\n",
    "    # Create a CSV writer object\n",
    "    csv_writer = csv.writer(csvfile)  \n",
    "    # Write the header row\n",
    "    csv_writer.writerow(['month', 'TotalRevenue'])    \n",
    "    # Write the data rows\n",
    "    for row in sales_revenue_by_month:\n",
    "        csv_writer.writerow(row)"
   ]
  },
  {
   "cell_type": "code",
   "execution_count": 126,
   "metadata": {},
   "outputs": [
    {
     "data": {
      "text/html": [
       "<div>\n",
       "<style scoped>\n",
       "    .dataframe tbody tr th:only-of-type {\n",
       "        vertical-align: middle;\n",
       "    }\n",
       "\n",
       "    .dataframe tbody tr th {\n",
       "        vertical-align: top;\n",
       "    }\n",
       "\n",
       "    .dataframe thead th {\n",
       "        text-align: right;\n",
       "    }\n",
       "</style>\n",
       "<table border=\"1\" class=\"dataframe\">\n",
       "  <thead>\n",
       "    <tr style=\"text-align: right;\">\n",
       "      <th></th>\n",
       "      <th>month</th>\n",
       "      <th>TotalRevenue</th>\n",
       "    </tr>\n",
       "  </thead>\n",
       "  <tbody>\n",
       "    <tr>\n",
       "      <th>0</th>\n",
       "      <td>2022-11</td>\n",
       "      <td>9336</td>\n",
       "    </tr>\n",
       "    <tr>\n",
       "      <th>1</th>\n",
       "      <td>2022-12</td>\n",
       "      <td>26988</td>\n",
       "    </tr>\n",
       "    <tr>\n",
       "      <th>2</th>\n",
       "      <td>2023-01</td>\n",
       "      <td>20160</td>\n",
       "    </tr>\n",
       "    <tr>\n",
       "      <th>3</th>\n",
       "      <td>2023-02</td>\n",
       "      <td>17371</td>\n",
       "    </tr>\n",
       "    <tr>\n",
       "      <th>4</th>\n",
       "      <td>2023-03</td>\n",
       "      <td>19860</td>\n",
       "    </tr>\n",
       "    <tr>\n",
       "      <th>5</th>\n",
       "      <td>2023-04</td>\n",
       "      <td>21539</td>\n",
       "    </tr>\n",
       "    <tr>\n",
       "      <th>6</th>\n",
       "      <td>2023-05</td>\n",
       "      <td>24469</td>\n",
       "    </tr>\n",
       "    <tr>\n",
       "      <th>7</th>\n",
       "      <td>2023-06</td>\n",
       "      <td>19051</td>\n",
       "    </tr>\n",
       "    <tr>\n",
       "      <th>8</th>\n",
       "      <td>2023-07</td>\n",
       "      <td>27406</td>\n",
       "    </tr>\n",
       "    <tr>\n",
       "      <th>9</th>\n",
       "      <td>2023-08</td>\n",
       "      <td>23560</td>\n",
       "    </tr>\n",
       "    <tr>\n",
       "      <th>10</th>\n",
       "      <td>2023-09</td>\n",
       "      <td>23331</td>\n",
       "    </tr>\n",
       "    <tr>\n",
       "      <th>11</th>\n",
       "      <td>2023-10</td>\n",
       "      <td>27643</td>\n",
       "    </tr>\n",
       "    <tr>\n",
       "      <th>12</th>\n",
       "      <td>2023-11</td>\n",
       "      <td>19087</td>\n",
       "    </tr>\n",
       "    <tr>\n",
       "      <th>13</th>\n",
       "      <td>2023-12</td>\n",
       "      <td>19243</td>\n",
       "    </tr>\n",
       "    <tr>\n",
       "      <th>14</th>\n",
       "      <td>2024-01</td>\n",
       "      <td>26647</td>\n",
       "    </tr>\n",
       "    <tr>\n",
       "      <th>15</th>\n",
       "      <td>2024-02</td>\n",
       "      <td>14664</td>\n",
       "    </tr>\n",
       "    <tr>\n",
       "      <th>16</th>\n",
       "      <td>2024-03</td>\n",
       "      <td>20148</td>\n",
       "    </tr>\n",
       "    <tr>\n",
       "      <th>17</th>\n",
       "      <td>2024-04</td>\n",
       "      <td>23562</td>\n",
       "    </tr>\n",
       "    <tr>\n",
       "      <th>18</th>\n",
       "      <td>2024-05</td>\n",
       "      <td>30720</td>\n",
       "    </tr>\n",
       "    <tr>\n",
       "      <th>19</th>\n",
       "      <td>2024-06</td>\n",
       "      <td>20219</td>\n",
       "    </tr>\n",
       "    <tr>\n",
       "      <th>20</th>\n",
       "      <td>2024-07</td>\n",
       "      <td>30688</td>\n",
       "    </tr>\n",
       "    <tr>\n",
       "      <th>21</th>\n",
       "      <td>2024-08</td>\n",
       "      <td>23530</td>\n",
       "    </tr>\n",
       "    <tr>\n",
       "      <th>22</th>\n",
       "      <td>2024-09</td>\n",
       "      <td>21056</td>\n",
       "    </tr>\n",
       "    <tr>\n",
       "      <th>23</th>\n",
       "      <td>2024-10</td>\n",
       "      <td>22526</td>\n",
       "    </tr>\n",
       "    <tr>\n",
       "      <th>24</th>\n",
       "      <td>2024-11</td>\n",
       "      <td>11845</td>\n",
       "    </tr>\n",
       "  </tbody>\n",
       "</table>\n",
       "</div>"
      ],
      "text/plain": [
       "      month  TotalRevenue\n",
       "0   2022-11          9336\n",
       "1   2022-12         26988\n",
       "2   2023-01         20160\n",
       "3   2023-02         17371\n",
       "4   2023-03         19860\n",
       "5   2023-04         21539\n",
       "6   2023-05         24469\n",
       "7   2023-06         19051\n",
       "8   2023-07         27406\n",
       "9   2023-08         23560\n",
       "10  2023-09         23331\n",
       "11  2023-10         27643\n",
       "12  2023-11         19087\n",
       "13  2023-12         19243\n",
       "14  2024-01         26647\n",
       "15  2024-02         14664\n",
       "16  2024-03         20148\n",
       "17  2024-04         23562\n",
       "18  2024-05         30720\n",
       "19  2024-06         20219\n",
       "20  2024-07         30688\n",
       "21  2024-08         23530\n",
       "22  2024-09         21056\n",
       "23  2024-10         22526\n",
       "24  2024-11         11845"
      ]
     },
     "execution_count": 126,
     "metadata": {},
     "output_type": "execute_result"
    }
   ],
   "source": [
    "data1=pd.read_csv('revenue_by_month.csv')\n",
    "data1"
   ]
  },
  {
   "cell_type": "markdown",
   "metadata": {},
   "source": [
    "### 2. Top 5 best-selling products"
   ]
  },
  {
   "cell_type": "code",
   "execution_count": 127,
   "metadata": {},
   "outputs": [],
   "source": [
    "query=\"\"\"select\n",
    "ProductName, sum(Revenue) as top_best_selling_product\n",
    "from sales_data\n",
    "group by ProductName\n",
    "order by top_best_selling_product desc\n",
    "limit 5;\n",
    "\"\"\"\n",
    "cursor.execute(query)\n",
    "top_best_selling_product = cursor.fetchall()\n",
    "# Open a CSV file for writing\n",
    "with open('best_selling_product.csv', 'w', newline='') as csvfile:\n",
    "    # Create a CSV writer object\n",
    "    csv_writer = csv.writer(csvfile)  \n",
    "    # Write the header row\n",
    "    csv_writer.writerow(['ProductName', 'top_best_selling_product'])    \n",
    "    # Write the data rows\n",
    "    for row in top_best_selling_product:\n",
    "        csv_writer.writerow(row)"
   ]
  },
  {
   "cell_type": "code",
   "execution_count": 128,
   "metadata": {},
   "outputs": [
    {
     "data": {
      "text/html": [
       "<div>\n",
       "<style scoped>\n",
       "    .dataframe tbody tr th:only-of-type {\n",
       "        vertical-align: middle;\n",
       "    }\n",
       "\n",
       "    .dataframe tbody tr th {\n",
       "        vertical-align: top;\n",
       "    }\n",
       "\n",
       "    .dataframe thead th {\n",
       "        text-align: right;\n",
       "    }\n",
       "</style>\n",
       "<table border=\"1\" class=\"dataframe\">\n",
       "  <thead>\n",
       "    <tr style=\"text-align: right;\">\n",
       "      <th></th>\n",
       "      <th>ProductName</th>\n",
       "      <th>top_best_selling_product</th>\n",
       "    </tr>\n",
       "  </thead>\n",
       "  <tbody>\n",
       "    <tr>\n",
       "      <th>0</th>\n",
       "      <td>Notice</td>\n",
       "      <td>28515</td>\n",
       "    </tr>\n",
       "    <tr>\n",
       "      <th>1</th>\n",
       "      <td>Both</td>\n",
       "      <td>19651</td>\n",
       "    </tr>\n",
       "    <tr>\n",
       "      <th>2</th>\n",
       "      <td>Hope</td>\n",
       "      <td>17570</td>\n",
       "    </tr>\n",
       "    <tr>\n",
       "      <th>3</th>\n",
       "      <td>Role</td>\n",
       "      <td>16135</td>\n",
       "    </tr>\n",
       "    <tr>\n",
       "      <th>4</th>\n",
       "      <td>Answer</td>\n",
       "      <td>15646</td>\n",
       "    </tr>\n",
       "  </tbody>\n",
       "</table>\n",
       "</div>"
      ],
      "text/plain": [
       "  ProductName  top_best_selling_product\n",
       "0      Notice                     28515\n",
       "1        Both                     19651\n",
       "2        Hope                     17570\n",
       "3        Role                     16135\n",
       "4      Answer                     15646"
      ]
     },
     "execution_count": 128,
     "metadata": {},
     "output_type": "execute_result"
    }
   ],
   "source": [
    "data2=pd.read_csv('best_selling_product.csv')\n",
    "data2"
   ]
  },
  {
   "cell_type": "markdown",
   "metadata": {},
   "source": [
    "### 3. Revenue contribution by customer segments"
   ]
  },
  {
   "cell_type": "code",
   "execution_count": 129,
   "metadata": {},
   "outputs": [],
   "source": [
    "\n",
    "query=\"\"\"select\n",
    "segment, sum(Revenue) as Revenue_contribution_by_segement\n",
    "from sales_data\n",
    "group by segment \n",
    "order by Revenue_contribution_by_segement desc;\n",
    "\"\"\"\n",
    "\n",
    "cursor.execute(query)\n",
    "revenue_contribution_by_segment = cursor.fetchall()\n",
    "\n",
    "# Open a CSV file for writing\n",
    "with open('revenue_by_segment.csv', 'w', newline='') as csvfile:\n",
    "    # Create a CSV writer object\n",
    "    csv_writer = csv.writer(csvfile)\n",
    "    \n",
    "    # Write the header row\n",
    "    csv_writer.writerow(['segment', 'revenue_by_segment'])\n",
    "    \n",
    "    # Write the data rows\n",
    "    for row in revenue_contribution_by_segment:\n",
    "        csv_writer.writerow(row)"
   ]
  },
  {
   "cell_type": "code",
   "execution_count": 130,
   "metadata": {},
   "outputs": [
    {
     "data": {
      "text/html": [
       "<div>\n",
       "<style scoped>\n",
       "    .dataframe tbody tr th:only-of-type {\n",
       "        vertical-align: middle;\n",
       "    }\n",
       "\n",
       "    .dataframe tbody tr th {\n",
       "        vertical-align: top;\n",
       "    }\n",
       "\n",
       "    .dataframe thead th {\n",
       "        text-align: right;\n",
       "    }\n",
       "</style>\n",
       "<table border=\"1\" class=\"dataframe\">\n",
       "  <thead>\n",
       "    <tr style=\"text-align: right;\">\n",
       "      <th></th>\n",
       "      <th>segment</th>\n",
       "      <th>revenue_by_segment</th>\n",
       "    </tr>\n",
       "  </thead>\n",
       "  <tbody>\n",
       "    <tr>\n",
       "      <th>0</th>\n",
       "      <td>Corporate</td>\n",
       "      <td>249656</td>\n",
       "    </tr>\n",
       "    <tr>\n",
       "      <th>1</th>\n",
       "      <td>Wholesale</td>\n",
       "      <td>158455</td>\n",
       "    </tr>\n",
       "    <tr>\n",
       "      <th>2</th>\n",
       "      <td>Retail</td>\n",
       "      <td>136538</td>\n",
       "    </tr>\n",
       "  </tbody>\n",
       "</table>\n",
       "</div>"
      ],
      "text/plain": [
       "     segment  revenue_by_segment\n",
       "0  Corporate              249656\n",
       "1  Wholesale              158455\n",
       "2     Retail              136538"
      ]
     },
     "execution_count": 130,
     "metadata": {},
     "output_type": "execute_result"
    }
   ],
   "source": [
    "data3=pd.read_csv('revenue_by_segment.csv')\n",
    "data3"
   ]
  },
  {
   "cell_type": "markdown",
   "metadata": {},
   "source": [
    "### 4. Identify the top regions for sales"
   ]
  },
  {
   "cell_type": "code",
   "execution_count": 131,
   "metadata": {},
   "outputs": [],
   "source": [
    "query = \"\"\"\n",
    "SELECT Region, SUM(Revenue) AS TotalRevenue\n",
    "FROM sales_data\n",
    "GROUP BY Region\n",
    "ORDER BY TotalRevenue DESC;\n",
    "\"\"\"\n",
    "\n",
    "cursor.execute(query)\n",
    "revenue_contribution_by_region = cursor.fetchall()\n",
    "\n",
    "# Open a CSV file for writing\n",
    "with open('revenue_by_region.csv', 'w', newline='') as csvfile:\n",
    "    # Create a CSV writer object\n",
    "    csv_writer = csv.writer(csvfile)\n",
    "    \n",
    "    # Write the header row\n",
    "    csv_writer.writerow(['Region', 'TotalRevenue'])\n",
    "    \n",
    "    # Write the data rows\n",
    "    for row in revenue_contribution_by_region:\n",
    "        csv_writer.writerow(row)"
   ]
  },
  {
   "cell_type": "code",
   "execution_count": 132,
   "metadata": {},
   "outputs": [
    {
     "data": {
      "text/html": [
       "<div>\n",
       "<style scoped>\n",
       "    .dataframe tbody tr th:only-of-type {\n",
       "        vertical-align: middle;\n",
       "    }\n",
       "\n",
       "    .dataframe tbody tr th {\n",
       "        vertical-align: top;\n",
       "    }\n",
       "\n",
       "    .dataframe thead th {\n",
       "        text-align: right;\n",
       "    }\n",
       "</style>\n",
       "<table border=\"1\" class=\"dataframe\">\n",
       "  <thead>\n",
       "    <tr style=\"text-align: right;\">\n",
       "      <th></th>\n",
       "      <th>Region</th>\n",
       "      <th>TotalRevenue</th>\n",
       "    </tr>\n",
       "  </thead>\n",
       "  <tbody>\n",
       "    <tr>\n",
       "      <th>0</th>\n",
       "      <td>West</td>\n",
       "      <td>155950</td>\n",
       "    </tr>\n",
       "    <tr>\n",
       "      <th>1</th>\n",
       "      <td>Central</td>\n",
       "      <td>127614</td>\n",
       "    </tr>\n",
       "    <tr>\n",
       "      <th>2</th>\n",
       "      <td>East</td>\n",
       "      <td>117258</td>\n",
       "    </tr>\n",
       "    <tr>\n",
       "      <th>3</th>\n",
       "      <td>North</td>\n",
       "      <td>89733</td>\n",
       "    </tr>\n",
       "    <tr>\n",
       "      <th>4</th>\n",
       "      <td>South</td>\n",
       "      <td>54094</td>\n",
       "    </tr>\n",
       "  </tbody>\n",
       "</table>\n",
       "</div>"
      ],
      "text/plain": [
       "    Region  TotalRevenue\n",
       "0     West        155950\n",
       "1  Central        127614\n",
       "2     East        117258\n",
       "3    North         89733\n",
       "4    South         54094"
      ]
     },
     "execution_count": 132,
     "metadata": {},
     "output_type": "execute_result"
    }
   ],
   "source": [
    "data4=pd.read_csv('revenue_by_region.csv')\n",
    "data4"
   ]
  },
  {
   "cell_type": "markdown",
   "metadata": {},
   "source": [
    "# 5. EDA and Data Visualization"
   ]
  },
  {
   "cell_type": "markdown",
   "metadata": {},
   "source": [
    "### Converting sql table to csv file"
   ]
  },
  {
   "cell_type": "code",
   "execution_count": 158,
   "metadata": {},
   "outputs": [
    {
     "name": "stdout",
     "output_type": "stream",
     "text": [
      "Data successfully exported to sales_data.csv\n"
     ]
    }
   ],
   "source": [
    "# Load the SQL table into a DataFrame\n",
    "sales_data = pd.read_sql(\"SELECT * FROM sales_data\", conn)\n",
    "# Specify the file name for the CSV\n",
    "csv_file_name = \"sales_data.csv\"\n",
    "# Save the DataFrame to a CSV file\n",
    "sales_data.to_csv(csv_file_name, index=False)\n",
    "print(f\"Data successfully exported to {csv_file_name}\")\n",
    "\n"
   ]
  },
  {
   "cell_type": "markdown",
   "metadata": {},
   "source": [
    "### displaying data"
   ]
  },
  {
   "cell_type": "code",
   "execution_count": 133,
   "metadata": {},
   "outputs": [],
   "source": [
    "df=pd.read_csv(\"sales_data.csv\")"
   ]
  },
  {
   "cell_type": "code",
   "execution_count": 134,
   "metadata": {},
   "outputs": [
    {
     "data": {
      "text/html": [
       "<div>\n",
       "<style scoped>\n",
       "    .dataframe tbody tr th:only-of-type {\n",
       "        vertical-align: middle;\n",
       "    }\n",
       "\n",
       "    .dataframe tbody tr th {\n",
       "        vertical-align: top;\n",
       "    }\n",
       "\n",
       "    .dataframe thead th {\n",
       "        text-align: right;\n",
       "    }\n",
       "</style>\n",
       "<table border=\"1\" class=\"dataframe\">\n",
       "  <thead>\n",
       "    <tr style=\"text-align: right;\">\n",
       "      <th></th>\n",
       "      <th>OrderID</th>\n",
       "      <th>Revenue</th>\n",
       "      <th>Discounts</th>\n",
       "      <th>Taxes</th>\n",
       "      <th>ProductID</th>\n",
       "      <th>ProductName</th>\n",
       "      <th>Category</th>\n",
       "      <th>Price</th>\n",
       "      <th>CustomerID</th>\n",
       "      <th>Name</th>\n",
       "      <th>Region</th>\n",
       "      <th>Segment</th>\n",
       "      <th>OrderDate</th>\n",
       "      <th>Quantity</th>\n",
       "      <th>TotalAmount</th>\n",
       "    </tr>\n",
       "  </thead>\n",
       "  <tbody>\n",
       "    <tr>\n",
       "      <th>0</th>\n",
       "      <td>1000</td>\n",
       "      <td>1755</td>\n",
       "      <td>30</td>\n",
       "      <td>65</td>\n",
       "      <td>212</td>\n",
       "      <td>Mind</td>\n",
       "      <td>Accessories</td>\n",
       "      <td>67</td>\n",
       "      <td>6</td>\n",
       "      <td>Lauren Walls</td>\n",
       "      <td>West</td>\n",
       "      <td>Wholesale</td>\n",
       "      <td>2/11/2023</td>\n",
       "      <td>4</td>\n",
       "      <td>426</td>\n",
       "    </tr>\n",
       "    <tr>\n",
       "      <th>1</th>\n",
       "      <td>1001</td>\n",
       "      <td>1727</td>\n",
       "      <td>76</td>\n",
       "      <td>101</td>\n",
       "      <td>226</td>\n",
       "      <td>Suffer</td>\n",
       "      <td>Accessories</td>\n",
       "      <td>179</td>\n",
       "      <td>22</td>\n",
       "      <td>Lori Cole</td>\n",
       "      <td>Central</td>\n",
       "      <td>Wholesale</td>\n",
       "      <td>6/9/2024</td>\n",
       "      <td>8</td>\n",
       "      <td>184</td>\n",
       "    </tr>\n",
       "    <tr>\n",
       "      <th>2</th>\n",
       "      <td>1002</td>\n",
       "      <td>1834</td>\n",
       "      <td>25</td>\n",
       "      <td>23</td>\n",
       "      <td>231</td>\n",
       "      <td>Role</td>\n",
       "      <td>Home Appliances</td>\n",
       "      <td>82</td>\n",
       "      <td>31</td>\n",
       "      <td>Sherri Knox</td>\n",
       "      <td>South</td>\n",
       "      <td>Wholesale</td>\n",
       "      <td>12/11/2022</td>\n",
       "      <td>5</td>\n",
       "      <td>880</td>\n",
       "    </tr>\n",
       "    <tr>\n",
       "      <th>3</th>\n",
       "      <td>1003</td>\n",
       "      <td>896</td>\n",
       "      <td>94</td>\n",
       "      <td>123</td>\n",
       "      <td>227</td>\n",
       "      <td>North</td>\n",
       "      <td>Home Appliances</td>\n",
       "      <td>221</td>\n",
       "      <td>23</td>\n",
       "      <td>Randy Duke</td>\n",
       "      <td>North</td>\n",
       "      <td>Retail</td>\n",
       "      <td>12/18/2022</td>\n",
       "      <td>10</td>\n",
       "      <td>928</td>\n",
       "    </tr>\n",
       "    <tr>\n",
       "      <th>4</th>\n",
       "      <td>1004</td>\n",
       "      <td>1868</td>\n",
       "      <td>51</td>\n",
       "      <td>63</td>\n",
       "      <td>215</td>\n",
       "      <td>Both</td>\n",
       "      <td>Accessories</td>\n",
       "      <td>334</td>\n",
       "      <td>42</td>\n",
       "      <td>Zachary Ray</td>\n",
       "      <td>Central</td>\n",
       "      <td>Corporate</td>\n",
       "      <td>4/11/2024</td>\n",
       "      <td>7</td>\n",
       "      <td>517</td>\n",
       "    </tr>\n",
       "  </tbody>\n",
       "</table>\n",
       "</div>"
      ],
      "text/plain": [
       "   OrderID  Revenue  Discounts  Taxes  ProductID ProductName         Category  \\\n",
       "0     1000     1755         30     65        212        Mind      Accessories   \n",
       "1     1001     1727         76    101        226      Suffer      Accessories   \n",
       "2     1002     1834         25     23        231        Role  Home Appliances   \n",
       "3     1003      896         94    123        227       North  Home Appliances   \n",
       "4     1004     1868         51     63        215        Both      Accessories   \n",
       "\n",
       "   Price  CustomerID          Name   Region    Segment   OrderDate  Quantity  \\\n",
       "0     67           6  Lauren Walls     West  Wholesale   2/11/2023         4   \n",
       "1    179          22     Lori Cole  Central  Wholesale    6/9/2024         8   \n",
       "2     82          31   Sherri Knox    South  Wholesale  12/11/2022         5   \n",
       "3    221          23    Randy Duke    North     Retail  12/18/2022        10   \n",
       "4    334          42   Zachary Ray  Central  Corporate   4/11/2024         7   \n",
       "\n",
       "   TotalAmount  \n",
       "0          426  \n",
       "1          184  \n",
       "2          880  \n",
       "3          928  \n",
       "4          517  "
      ]
     },
     "execution_count": 134,
     "metadata": {},
     "output_type": "execute_result"
    }
   ],
   "source": [
    "df.head(5)"
   ]
  },
  {
   "cell_type": "code",
   "execution_count": 135,
   "metadata": {},
   "outputs": [
    {
     "data": {
      "text/plain": [
       "(484, 15)"
      ]
     },
     "execution_count": 135,
     "metadata": {},
     "output_type": "execute_result"
    }
   ],
   "source": [
    "df.shape"
   ]
  },
  {
   "cell_type": "markdown",
   "metadata": {},
   "source": [
    "### Handling Missing data"
   ]
  },
  {
   "cell_type": "code",
   "execution_count": 136,
   "metadata": {},
   "outputs": [
    {
     "data": {
      "text/plain": [
       "OrderID        0\n",
       "Revenue        0\n",
       "Discounts      0\n",
       "Taxes          0\n",
       "ProductID      0\n",
       "ProductName    0\n",
       "Category       0\n",
       "Price          0\n",
       "CustomerID     0\n",
       "Name           0\n",
       "Region         0\n",
       "Segment        0\n",
       "OrderDate      0\n",
       "Quantity       0\n",
       "TotalAmount    0\n",
       "dtype: int64"
      ]
     },
     "execution_count": 136,
     "metadata": {},
     "output_type": "execute_result"
    }
   ],
   "source": [
    "df.isnull().sum()"
   ]
  },
  {
   "cell_type": "markdown",
   "metadata": {},
   "source": [
    "#### There is no missing data so no need to handle it"
   ]
  },
  {
   "cell_type": "markdown",
   "metadata": {},
   "source": [
    "### Handling Duplicates"
   ]
  },
  {
   "cell_type": "code",
   "execution_count": 137,
   "metadata": {},
   "outputs": [
    {
     "data": {
      "text/plain": [
       "0      False\n",
       "1      False\n",
       "2      False\n",
       "3      False\n",
       "4      False\n",
       "       ...  \n",
       "479    False\n",
       "480    False\n",
       "481    False\n",
       "482    False\n",
       "483    False\n",
       "Length: 484, dtype: bool"
      ]
     },
     "execution_count": 137,
     "metadata": {},
     "output_type": "execute_result"
    }
   ],
   "source": [
    "df.duplicated()"
   ]
  },
  {
   "cell_type": "markdown",
   "metadata": {},
   "source": [
    "There are no duplicate values in data"
   ]
  },
  {
   "cell_type": "markdown",
   "metadata": {},
   "source": [
    "### Exploring data"
   ]
  },
  {
   "cell_type": "code",
   "execution_count": 138,
   "metadata": {},
   "outputs": [
    {
     "name": "stdout",
     "output_type": "stream",
     "text": [
      "['Accessories' 'Home Appliances' 'Electronics' 'Books']\n"
     ]
    }
   ],
   "source": [
    "unique_categories=df[\"Category\"].unique()\n",
    "print(unique_categories)"
   ]
  },
  {
   "cell_type": "code",
   "execution_count": 139,
   "metadata": {},
   "outputs": [
    {
     "name": "stdout",
     "output_type": "stream",
     "text": [
      "['Mind' 'Suffer' 'Role' 'North' 'Both' 'Dog' 'Care' 'Happen' 'Maybe'\n",
      " 'Heavy' 'Explain' 'Card' 'Nor' 'Level' 'Pull' 'System' 'Your' 'Present'\n",
      " 'Just' 'Story' 'Catch' 'Answer' 'Shake' 'Into' 'Protect' 'Notice' 'Size'\n",
      " 'Despite' 'Gun' 'Dream' 'Friend' 'Price' 'Hope' 'Available' 'Like' 'We'\n",
      " 'Guess' 'Process' 'Argue' 'Skill' 'Performance' 'Enter' 'Truth'\n",
      " 'Responsibility' 'Behavior' 'Guy' 'Voice' 'Dinner']\n"
     ]
    }
   ],
   "source": [
    "unique_categories=df[\"ProductName\"].unique()\n",
    "print(unique_categories)"
   ]
  },
  {
   "cell_type": "markdown",
   "metadata": {},
   "source": [
    "## Data Visualization"
   ]
  },
  {
   "cell_type": "markdown",
   "metadata": {},
   "source": [
    "## 1. Sales by month"
   ]
  },
  {
   "cell_type": "code",
   "execution_count": 140,
   "metadata": {},
   "outputs": [
    {
     "data": {
      "image/png": "[encoded data removed]",
      "text/plain": [
       "<Figure size 1400x400 with 1 Axes>"
      ]
     },
     "metadata": {},
     "output_type": "display_data"
    }
   ],
   "source": [
    "plt.figure(figsize=(14, 4))\n",
    "sns.lineplot(x=\"month\", y=\"TotalRevenue\", data=data1, marker=\"o\")\n",
    "plt.title(\"Sales by Month\")\n",
    "plt.xticks(rotation=45)\n",
    "plt.show()"
   ]
  },
  {
   "cell_type": "markdown",
   "metadata": {},
   "source": [
    "## 2. Top Selling Products"
   ]
  },
  {
   "cell_type": "code",
   "execution_count": 141,
   "metadata": {},
   "outputs": [
    {
     "data": {
      "image/png": "[encoded data removed]",
      "text/plain": [
       "<Figure size 600x600 with 1 Axes>"
      ]
     },
     "metadata": {},
     "output_type": "display_data"
    }
   ],
   "source": [
    "plt.figure(figsize=(6,6))\n",
    "plt.pie(data2[\"top_best_selling_product\"],labels=data2[\"ProductName\"],autopct=\"%1.1f%%\",startangle=180)\n",
    "plt.title(\"top best selling product\")\n",
    "plt.show()"
   ]
  },
  {
   "cell_type": "markdown",
   "metadata": {},
   "source": [
    "## 3. Revenue by Customer segment"
   ]
  },
  {
   "cell_type": "code",
   "execution_count": 142,
   "metadata": {},
   "outputs": [
    {
     "data": {
      "image/png": "[encoded data removed]",
      "text/plain": [
       "<Figure size 800x400 with 1 Axes>"
      ]
     },
     "metadata": {},
     "output_type": "display_data"
    }
   ],
   "source": [
    "plt.figure(figsize=(8, 4))\n",
    "sns.barplot(x=\"segment\",y=\"revenue_by_segment\",data=data3,hue=\"segment\")\n",
    "plt.title(\"Revenue contribution by customer segment\")\n",
    "plt.show()"
   ]
  },
  {
   "cell_type": "markdown",
   "metadata": {},
   "source": [
    "## 4. Revenue by Region"
   ]
  },
  {
   "cell_type": "code",
   "execution_count": 143,
   "metadata": {},
   "outputs": [
    {
     "data": {
      "image/png": "[encoded data removed]",
      "text/plain": [
       "<Figure size 800x400 with 1 Axes>"
      ]
     },
     "metadata": {},
     "output_type": "display_data"
    }
   ],
   "source": [
    "plt.figure(figsize=(8, 4))\n",
    "sns.barplot(x=\"Region\",y=\"TotalRevenue\",data=data4,color=\"green\")\n",
    "plt.title(\"Revenue contribution by region\")\n",
    "plt.show()"
   ]
  },
  {
   "cell_type": "markdown",
   "metadata": {},
   "source": [
    "## 5. HIghest Quantity ordered on which data by which customer"
   ]
  },
  {
   "cell_type": "code",
   "execution_count": 145,
   "metadata": {},
   "outputs": [
    {
     "data": {
      "text/plain": [
       "OrderDate    12/18/2022\n",
       "Name         Randy Duke\n",
       "Quantity             10\n",
       "Name: 3, dtype: object"
      ]
     },
     "execution_count": 145,
     "metadata": {},
     "output_type": "execute_result"
    }
   ],
   "source": [
    "df.loc[df[\"Quantity\"].idxmax(),[\"OrderDate\",\"Name\",\"Quantity\"]]"
   ]
  },
  {
   "cell_type": "markdown",
   "metadata": {},
   "source": [
    "## 6. Highest Tax by Category"
   ]
  },
  {
   "cell_type": "code",
   "execution_count": 151,
   "metadata": {},
   "outputs": [
    {
     "data": {
      "image/png": "[encoded data removed]",
      "text/plain": [
       "<Figure size 800x400 with 1 Axes>"
      ]
     },
     "metadata": {},
     "output_type": "display_data"
    }
   ],
   "source": [
    "highest_tax_by_category=df.groupby(\"Category\")[\"Taxes\"].sum().reset_index()\n",
    "plt.figure(figsize=(8, 4))\n",
    "sns.barplot(x=\"Category\",y=\"Taxes\",hue=\"Category\",data=highest_tax_by_category, legend=False  )\n",
    "plt.title(\"highest_tax_by_Region\")\n",
    "plt.show()"
   ]
  },
  {
   "cell_type": "markdown",
   "metadata": {},
   "source": [
    "## 7. Highest Tax by Segement"
   ]
  },
  {
   "cell_type": "code",
   "execution_count": 153,
   "metadata": {},
   "outputs": [
    {
     "data": {
      "image/png": "[encoded data removed]",
      "text/plain": [
       "<Figure size 600x600 with 1 Axes>"
      ]
     },
     "metadata": {},
     "output_type": "display_data"
    }
   ],
   "source": [
    "highest_tax_by_Segment=df.groupby(\"Segment\")[\"Taxes\"].sum().reset_index()\n",
    "plt.figure(figsize=(6,6))\n",
    "plt.pie(highest_tax_by_Segment[\"Taxes\"],labels=highest_tax_by_Segment[\"Segment\"],autopct=\"%1.1f%%\",startangle=180)\n",
    "plt.title(\"highest Taxes paid by Segment\")\n",
    "plt.show()"
   ]
  },
  {
   "cell_type": "markdown",
   "metadata": {},
   "source": [
    "## 8. Highest Tax by Region"
   ]
  },
  {
   "cell_type": "code",
   "execution_count": 152,
   "metadata": {},
   "outputs": [
    {
     "data": {
      "image/png": "[encoded data removed]",
      "text/plain": [
       "<Figure size 600x600 with 1 Axes>"
      ]
     },
     "metadata": {},
     "output_type": "display_data"
    }
   ],
   "source": [
    "highest_tax_by_Region=df.groupby(\"Region\")[\"Taxes\"].sum().reset_index()\n",
    "plt.figure(figsize=(6,6))\n",
    "plt.pie(highest_tax_by_Region[\"Taxes\"],labels=highest_tax_by_Region[\"Region\"],autopct=\"%1.1f%%\",startangle=180)\n",
    "plt.title(\"highest Taxes paid by Region\")\n",
    "plt.show()"
   ]
  },
  {
   "cell_type": "code",
   "execution_count": null,
   "metadata": {},
   "outputs": [],
   "source": []
  }
 ],
 "metadata": {
  "kernelspec": {
   "display_name": "Python 3",
   "language": "python",
   "name": "python3"
  },
  "language_info": {
   "codemirror_mode": {
    "name": "ipython",
    "version": 3
   },
   "file_extension": ".py",
   "mimetype": "text/x-python",
   "name": "python",
   "nbconvert_exporter": "python",
   "pygments_lexer": "ipython3",
   "version": "3.12.5"
  }
 },
 "nbformat": 4,
 "nbformat_minor": 2
}
